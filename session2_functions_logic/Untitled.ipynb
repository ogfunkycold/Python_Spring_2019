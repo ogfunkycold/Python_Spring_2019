{
 "cells": [
  {
   "cell_type": "code",
   "execution_count": 1,
   "metadata": {},
   "outputs": [
    {
     "name": "stdout",
     "output_type": "stream",
     "text": [
      "2 3\n"
     ]
    }
   ],
   "source": [
    "a =2\n",
    "b =3\n",
    "print(a,b)\n"
   ]
  },
  {
   "cell_type": "code",
   "execution_count": 5,
   "metadata": {},
   "outputs": [
    {
     "name": "stdout",
     "output_type": "stream",
     "text": [
      "d =  -1\n",
      "e =  -3\n",
      "f =  0\n"
     ]
    }
   ],
   "source": [
    "def dpar(a,b):\n",
    "    c = a -b\n",
    "    return c\n",
    "\n",
    "d = dpar(1,2)\n",
    "print('d = ', d)\n",
    "\n",
    "e = dpar(d,2)\n",
    "print('e = ', e)\n",
    "\n",
    "f = dpar(1,dpar(3,2))\n",
    "print('f = ',f)"
   ]
  },
  {
   "cell_type": "code",
   "execution_count": 7,
   "metadata": {},
   "outputs": [
    {
     "name": "stdout",
     "output_type": "stream",
     "text": [
      "Mary is 11 years old.\n"
     ]
    }
   ],
   "source": [
    "def genmsg(name,age):\n",
    "    msg = name+\" is \"+str(age)+\" years old.\"\n",
    "    return msg\n",
    "a = 'Mary'\n",
    "b = 11\n",
    "print(genmsg(a,b))"
   ]
  },
  {
   "cell_type": "code",
   "execution_count": 18,
   "metadata": {},
   "outputs": [
    {
     "name": "stdout",
     "output_type": "stream",
     "text": [
      "      main:  a =   5 b =  6 c =  7\n",
      " function1:  a =   1 b =  3 c =  7\n",
      " function2:  a =  -1 b =  6 c =  7\n",
      "function2a:  a =  -1 b =  3 c =  7\n"
     ]
    }
   ],
   "source": [
    "def function1():\n",
    "    a = 1\n",
    "    b = 3\n",
    "    print(' function1: ', 'a =  ', a, 'b = ', b, 'c = ', c)\n",
    "    function2()\n",
    "    \n",
    "def function2():\n",
    "    a = -1\n",
    "    print(' function2: ', 'a = ', a, 'b = ', b, 'c = ', c)\n",
    "\n",
    "def function3():\n",
    "    def function2():\n",
    "        a = -1\n",
    "        print('function2a: ', 'a = ', a, 'b = ', b, 'c = ', c)\n",
    "    a = 1\n",
    "    b = 3\n",
    "    function2()\n",
    "\n",
    "\n",
    "\n",
    "c=7\n",
    "a=5\n",
    "b=6\n",
    "#The print statement below sees the values of a,b,c defined in the main program.\n",
    "print('      main: ', 'a =  ', a, 'b = ', b, 'c = ', c)\n",
    "\n",
    "#Function1 contains a local definition of a, and b\n",
    "#...function1 retrieves the value of c from the main program, where it was defined\n",
    "#Function2 is called from within function1.  Function2 contains a local definition of a.\n",
    "#...function2 retrieves the values of b and c from the main program, where it was defined.\n",
    "function1()\n",
    "\n",
    "#When function3 is called, it defines values for a and b.\n",
    "#Function3 calls its own version of function2, which defines the value for a.\n",
    "#...function2a retrieves its value of b from function3, where it was defined.\n",
    "#...function2a retreives its value of c from the main program, where function3 was defined. \n",
    "function3()"
   ]
  },
  {
   "cell_type": "code",
   "execution_count": 21,
   "metadata": {},
   "outputs": [
    {
     "name": "stdout",
     "output_type": "stream",
     "text": [
      "2\n",
      "2\n"
     ]
    }
   ],
   "source": [
    "def afunc():\n",
    "    global a\n",
    "    a+=1\n",
    "    print(a)\n",
    "a = 1\n",
    "afunc()\n",
    "print(a)"
   ]
  },
  {
   "cell_type": "code",
   "execution_count": 22,
   "metadata": {},
   "outputs": [
    {
     "name": "stdout",
     "output_type": "stream",
     "text": [
      "Value of a after calling func1:  2\n",
      "Value of b inside func3:  3\n",
      "Value of b after calling func2 3\n"
     ]
    }
   ],
   "source": [
    "\n",
    "def func1():\n",
    "    global a\n",
    "    a = a+1\n",
    "\n",
    "\n",
    "def func2():\n",
    "    b = 3\n",
    "    c = 5\n",
    "    def func3():\n",
    "        global b\n",
    "        b = b+1\n",
    "        print('Value of b inside func3: ',b)   \n",
    "\n",
    "    func3()\n",
    "\n",
    "a=1\n",
    "b=2\n",
    "func1()\n",
    "print('Value of a after calling func1: ', a)\n",
    "\n",
    "func2()\n",
    "print('Value of b after calling func2', b)"
   ]
  },
  {
   "cell_type": "code",
   "execution_count": 23,
   "metadata": {},
   "outputs": [
    {
     "name": "stdout",
     "output_type": "stream",
     "text": [
      " True and False =  False\n",
      " True and  True =  True\n",
      "False and False =  False\n",
      " \n",
      " True or False =  True\n",
      " True or  True =  True\n",
      "False or False =  False\n",
      " \n",
      " not  True =  False\n",
      " not False =  True\n"
     ]
    }
   ],
   "source": [
    "a = True\n",
    "b = False\n",
    "#and\n",
    "print(\" True and False = \" , a and b)\n",
    "print(\" True and  True = \"  , a and a)\n",
    "print(\"False and False = \",b and b)\n",
    "print(\" \")\n",
    "#or\n",
    "print(\" True or False = \"  , a or b)\n",
    "print(\" True or  True = \"  , a or a)\n",
    "print(\"False or False = \"  ,b or b)\n",
    "print(\" \")\n",
    "#not\n",
    "print(\" not  True = \", not a)\n",
    "print(\" not False = \", not b)"
   ]
  },
  {
   "cell_type": "code",
   "execution_count": 30,
   "metadata": {},
   "outputs": [
    {
     "name": "stdout",
     "output_type": "stream",
     "text": [
      "Enter a number: -1\n",
      "b is not positive\n"
     ]
    }
   ],
   "source": [
    "def ispositive(a):\n",
    "    if (a > 0):\n",
    "        return True\n",
    "    return False\n",
    "\n",
    "def ispositive2(a):\n",
    "    rval = False\n",
    "    if (a > 0):\n",
    "        rval = True\n",
    "    return rval\n",
    "\n",
    "def ispositive3(a):\n",
    "    if (a > 0):\n",
    "        rval = True\n",
    "    else:\n",
    "        rval = False\n",
    "    return rval\n",
    "\n",
    "b = int(input(\"Enter a number: \"))\n",
    "bp = ispositive3(b)\n",
    "msg = \"b is not positive\"\n",
    "if (bp):\n",
    "    msg = \"b is positive\"\n",
    "print(msg)"
   ]
  },
  {
   "cell_type": "code",
   "execution_count": 31,
   "metadata": {},
   "outputs": [
    {
     "name": "stdout",
     "output_type": "stream",
     "text": [
      "92 is an  A\n",
      "83 is an  B\n",
      "55 is an  F\n"
     ]
    }
   ],
   "source": [
    "def letter_grade(num):\n",
    "    if (num >= 90):\n",
    "        return 'A'\n",
    "    elif (num >= 80):\n",
    "        return 'B'\n",
    "    elif (num >= 70):\n",
    "        return 'C'\n",
    "    elif (num >= 60):\n",
    "        return 'D'\n",
    "    else:\n",
    "        return 'F'\n",
    "print('92 is an ', letter_grade(92))\n",
    "print('83 is an ', letter_grade(83))\n",
    "print('55 is an ', letter_grade(55))"
   ]
  },
  {
   "cell_type": "code",
   "execution_count": 44,
   "metadata": {},
   "outputs": [
    {
     "name": "stdout",
     "output_type": "stream",
     "text": [
      "Enter a number: 10\n",
      "You appear to be running Jupyter...\n",
      "m! is 3628800 .\n"
     ]
    }
   ],
   "source": [
    "import sys\n",
    "def factorial(n):\n",
    "    if (n <= 1):\n",
    "        return 1\n",
    "    else:\n",
    "        return n*factorial(n-1)\n",
    "\n",
    "mstr = input(\"Enter a number: \")\n",
    "m = int(mstr)\n",
    "try:\n",
    "    sys.setrecursionlimit(m+2)\n",
    "    mfact = factorial(m)\n",
    "except:\n",
    "    print('You appear to be running Jupyter...')\n",
    "    sys.setrecursionlimit(m+31)\n",
    "    mfact = factorial(m)\n",
    "\n",
    "print('m! is',mfact,'.')\n"
   ]
  },
  {
   "cell_type": "code",
   "execution_count": 39,
   "metadata": {},
   "outputs": [
    {
     "name": "stdout",
     "output_type": "stream",
     "text": [
      "Enter a number: 10000\n"
     ]
    },
    {
     "ename": "RecursionError",
     "evalue": "maximum recursion depth exceeded in comparison",
     "output_type": "error",
     "traceback": [
      "\u001b[0;31m---------------------------------------------------------------------------\u001b[0m",
      "\u001b[0;31mRecursionError\u001b[0m                            Traceback (most recent call last)",
      "\u001b[0;32m<ipython-input-39-a7c8fbaa45f1>\u001b[0m in \u001b[0;36m<module>\u001b[0;34m()\u001b[0m\n\u001b[1;32m      9\u001b[0m \u001b[0mm\u001b[0m \u001b[0;34m=\u001b[0m \u001b[0mint\u001b[0m\u001b[0;34m(\u001b[0m\u001b[0mmstr\u001b[0m\u001b[0;34m)\u001b[0m\u001b[0;34m\u001b[0m\u001b[0m\n\u001b[1;32m     10\u001b[0m \u001b[0;34m\u001b[0m\u001b[0m\n\u001b[0;32m---> 11\u001b[0;31m \u001b[0mprint\u001b[0m\u001b[0;34m(\u001b[0m\u001b[0;34m'Sum of numbers 1 through '\u001b[0m\u001b[0;34m+\u001b[0m\u001b[0mmstr\u001b[0m\u001b[0;34m+\u001b[0m\u001b[0;34m' is'\u001b[0m\u001b[0;34m,\u001b[0m\u001b[0msumn\u001b[0m\u001b[0;34m(\u001b[0m\u001b[0mm\u001b[0m\u001b[0;34m)\u001b[0m\u001b[0;34m,\u001b[0m\u001b[0;34m'.'\u001b[0m\u001b[0;34m)\u001b[0m\u001b[0;34m\u001b[0m\u001b[0m\n\u001b[0m",
      "\u001b[0;32m<ipython-input-39-a7c8fbaa45f1>\u001b[0m in \u001b[0;36msumn\u001b[0;34m(n)\u001b[0m\n\u001b[1;32m      3\u001b[0m         \u001b[0;32mreturn\u001b[0m \u001b[0;36m1\u001b[0m\u001b[0;34m\u001b[0m\u001b[0m\n\u001b[1;32m      4\u001b[0m     \u001b[0;32melse\u001b[0m\u001b[0;34m:\u001b[0m\u001b[0;34m\u001b[0m\u001b[0m\n\u001b[0;32m----> 5\u001b[0;31m         \u001b[0mval\u001b[0m \u001b[0;34m=\u001b[0m \u001b[0msumn\u001b[0m\u001b[0;34m(\u001b[0m\u001b[0mn\u001b[0m\u001b[0;34m-\u001b[0m\u001b[0;36m1\u001b[0m\u001b[0;34m)\u001b[0m\u001b[0;34m\u001b[0m\u001b[0m\n\u001b[0m\u001b[1;32m      6\u001b[0m         \u001b[0;32mreturn\u001b[0m \u001b[0mn\u001b[0m\u001b[0;34m+\u001b[0m\u001b[0mval\u001b[0m\u001b[0;34m\u001b[0m\u001b[0m\n\u001b[1;32m      7\u001b[0m \u001b[0;34m\u001b[0m\u001b[0m\n",
      "... last 1 frames repeated, from the frame below ...\n",
      "\u001b[0;32m<ipython-input-39-a7c8fbaa45f1>\u001b[0m in \u001b[0;36msumn\u001b[0;34m(n)\u001b[0m\n\u001b[1;32m      3\u001b[0m         \u001b[0;32mreturn\u001b[0m \u001b[0;36m1\u001b[0m\u001b[0;34m\u001b[0m\u001b[0m\n\u001b[1;32m      4\u001b[0m     \u001b[0;32melse\u001b[0m\u001b[0;34m:\u001b[0m\u001b[0;34m\u001b[0m\u001b[0m\n\u001b[0;32m----> 5\u001b[0;31m         \u001b[0mval\u001b[0m \u001b[0;34m=\u001b[0m \u001b[0msumn\u001b[0m\u001b[0;34m(\u001b[0m\u001b[0mn\u001b[0m\u001b[0;34m-\u001b[0m\u001b[0;36m1\u001b[0m\u001b[0;34m)\u001b[0m\u001b[0;34m\u001b[0m\u001b[0m\n\u001b[0m\u001b[1;32m      6\u001b[0m         \u001b[0;32mreturn\u001b[0m \u001b[0mn\u001b[0m\u001b[0;34m+\u001b[0m\u001b[0mval\u001b[0m\u001b[0;34m\u001b[0m\u001b[0m\n\u001b[1;32m      7\u001b[0m \u001b[0;34m\u001b[0m\u001b[0m\n",
      "\u001b[0;31mRecursionError\u001b[0m: maximum recursion depth exceeded in comparison"
     ]
    }
   ],
   "source": [
    "def sumn(n):\n",
    "    if (n <= 1):\n",
    "        return 1\n",
    "    else:\n",
    "        val = sumn(n-1)\n",
    "        return n+val\n",
    "\n",
    "mstr = input(\"Enter a number: \")\n",
    "m = int(mstr)\n",
    "\n",
    "print('Sum of numbers 1 through '+mstr+' is',sumn(m),'.')"
   ]
  },
  {
   "cell_type": "code",
   "execution_count": 41,
   "metadata": {},
   "outputs": [
    {
     "ename": "RecursionError",
     "evalue": "cannot set the recursion limit to 1 at the recursion depth 29: the limit is too low",
     "output_type": "error",
     "traceback": [
      "\u001b[0;31m---------------------------------------------------------------------------\u001b[0m",
      "\u001b[0;31mRecursionError\u001b[0m                            Traceback (most recent call last)",
      "\u001b[0;32m<ipython-input-41-4e7d8bc0adf0>\u001b[0m in \u001b[0;36m<module>\u001b[0;34m()\u001b[0m\n\u001b[0;32m----> 1\u001b[0;31m \u001b[0msys\u001b[0m\u001b[0;34m.\u001b[0m\u001b[0msetrecursionlimit\u001b[0m\u001b[0;34m(\u001b[0m\u001b[0;36m1\u001b[0m\u001b[0;34m)\u001b[0m\u001b[0;34m\u001b[0m\u001b[0m\n\u001b[0m",
      "\u001b[0;31mRecursionError\u001b[0m: cannot set the recursion limit to 1 at the recursion depth 29: the limit is too low"
     ]
    }
   ],
   "source": [
    "sys.setrecursionlimit(1)"
   ]
  },
  {
   "cell_type": "code",
   "execution_count": null,
   "metadata": {},
   "outputs": [],
   "source": []
  }
 ],
 "metadata": {
  "kernelspec": {
   "display_name": "Python 3",
   "language": "python",
   "name": "python3"
  },
  "language_info": {
   "codemirror_mode": {
    "name": "ipython",
    "version": 3
   },
   "file_extension": ".py",
   "mimetype": "text/x-python",
   "name": "python",
   "nbconvert_exporter": "python",
   "pygments_lexer": "ipython3",
   "version": "3.6.5"
  }
 },
 "nbformat": 4,
 "nbformat_minor": 2
}
