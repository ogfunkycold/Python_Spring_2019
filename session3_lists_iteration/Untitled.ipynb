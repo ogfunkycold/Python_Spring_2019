{
 "cells": [
  {
   "cell_type": "code",
   "execution_count": 1,
   "metadata": {},
   "outputs": [],
   "source": [
    "a = 1; b = 2"
   ]
  },
  {
   "cell_type": "code",
   "execution_count": 2,
   "metadata": {},
   "outputs": [
    {
     "name": "stdout",
     "output_type": "stream",
     "text": [
      "1 2\n"
     ]
    }
   ],
   "source": [
    "print(a,b)"
   ]
  },
  {
   "cell_type": "code",
   "execution_count": 3,
   "metadata": {},
   "outputs": [
    {
     "name": "stdout",
     "output_type": "stream",
     "text": [
      "140015615645312 140015615645344 32\n"
     ]
    }
   ],
   "source": [
    "print(id(a), id(b), id(b)-id(a))"
   ]
  },
  {
   "cell_type": "code",
   "execution_count": 4,
   "metadata": {},
   "outputs": [],
   "source": [
    "a = 1.0\n",
    "b = [1,2,a,4]"
   ]
  },
  {
   "cell_type": "code",
   "execution_count": 5,
   "metadata": {},
   "outputs": [
    {
     "name": "stdout",
     "output_type": "stream",
     "text": [
      "True\n"
     ]
    }
   ],
   "source": [
    "print(b[2] is a)"
   ]
  },
  {
   "cell_type": "code",
   "execution_count": 6,
   "metadata": {},
   "outputs": [
    {
     "name": "stdout",
     "output_type": "stream",
     "text": [
      "140015458928920 140015458928920\n"
     ]
    }
   ],
   "source": [
    "print(id(b[2]),id(a))"
   ]
  },
  {
   "cell_type": "code",
   "execution_count": 7,
   "metadata": {},
   "outputs": [
    {
     "name": "stdout",
     "output_type": "stream",
     "text": [
      "3.0 1.0\n"
     ]
    }
   ],
   "source": [
    "b[2] = 3.0\n",
    "print(b[2],a)"
   ]
  },
  {
   "cell_type": "code",
   "execution_count": 8,
   "metadata": {},
   "outputs": [],
   "source": [
    "a = 1.0\n",
    "c = [2,3]\n",
    "b = [1,c,a]"
   ]
  },
  {
   "cell_type": "code",
   "execution_count": 9,
   "metadata": {},
   "outputs": [
    {
     "name": "stdout",
     "output_type": "stream",
     "text": [
      "[2, 3]\n"
     ]
    }
   ],
   "source": [
    "print(b[1])"
   ]
  },
  {
   "cell_type": "code",
   "execution_count": 10,
   "metadata": {},
   "outputs": [
    {
     "name": "stdout",
     "output_type": "stream",
     "text": [
      "[2, 3] 7\n"
     ]
    }
   ],
   "source": [
    "b[1]=7\n",
    "print(c, b[1])"
   ]
  },
  {
   "cell_type": "code",
   "execution_count": 11,
   "metadata": {},
   "outputs": [
    {
     "name": "stdout",
     "output_type": "stream",
     "text": [
      "[2, 3] [2, 3]\n"
     ]
    }
   ],
   "source": [
    "b[1] =c \n",
    "print(c,b[1])"
   ]
  },
  {
   "cell_type": "code",
   "execution_count": 12,
   "metadata": {},
   "outputs": [
    {
     "name": "stdout",
     "output_type": "stream",
     "text": [
      "[22.0, 3] [22.0, 3]\n"
     ]
    }
   ],
   "source": [
    "b[1][0] = 22.0\n",
    "print(b[1],c)"
   ]
  },
  {
   "cell_type": "code",
   "execution_count": 13,
   "metadata": {},
   "outputs": [
    {
     "name": "stdout",
     "output_type": "stream",
     "text": [
      "[3, 4]\n"
     ]
    }
   ],
   "source": [
    "a = [1,2,3,4,5]\n",
    "b = a[2:4]\n",
    "print(b)"
   ]
  },
  {
   "cell_type": "code",
   "execution_count": 16,
   "metadata": {},
   "outputs": [
    {
     "name": "stdout",
     "output_type": "stream",
     "text": [
      "140015615646656 140015615645376\n"
     ]
    }
   ],
   "source": [
    "print(id(b[0]), id(a[2]))"
   ]
  },
  {
   "cell_type": "code",
   "execution_count": 15,
   "metadata": {},
   "outputs": [
    {
     "name": "stdout",
     "output_type": "stream",
     "text": [
      "43 3\n"
     ]
    }
   ],
   "source": [
    "b[0]= 43\n",
    "print(b[0], a[2])"
   ]
  },
  {
   "cell_type": "code",
   "execution_count": 18,
   "metadata": {},
   "outputs": [
    {
     "name": "stdout",
     "output_type": "stream",
     "text": [
      "[1] 1\n",
      "[1, [2, 3, 4]] 2\n",
      "3\n"
     ]
    }
   ],
   "source": [
    "a = []\n",
    "a.append(1)\n",
    "print(a, len(a))\n",
    "a.append([2,3,4])\n",
    "print(a,len(a))\n",
    "print(len(a[1]))"
   ]
  },
  {
   "cell_type": "code",
   "execution_count": 19,
   "metadata": {},
   "outputs": [],
   "source": [
    "del a[0]"
   ]
  },
  {
   "cell_type": "code",
   "execution_count": 20,
   "metadata": {},
   "outputs": [
    {
     "name": "stdout",
     "output_type": "stream",
     "text": [
      "[[2, 3, 4]]\n"
     ]
    }
   ],
   "source": [
    "print(a)"
   ]
  },
  {
   "cell_type": "code",
   "execution_count": 21,
   "metadata": {},
   "outputs": [
    {
     "name": "stdout",
     "output_type": "stream",
     "text": [
      "1\n"
     ]
    }
   ],
   "source": [
    "print(len(a))"
   ]
  },
  {
   "cell_type": "code",
   "execution_count": 25,
   "metadata": {},
   "outputs": [
    {
     "name": "stdout",
     "output_type": "stream",
     "text": [
      "[[1, 2], [1, 2], [1, 2]]\n"
     ]
    }
   ],
   "source": [
    "a = [1,2]\n",
    "b = 3*[a]\n",
    "print(b)"
   ]
  },
  {
   "cell_type": "code",
   "execution_count": 23,
   "metadata": {},
   "outputs": [
    {
     "name": "stdout",
     "output_type": "stream",
     "text": [
      "[0, 0, 0, 0, 0, 0, 0, 0, 0, 0, 0, 0, 0, 0, 0, 0, 0, 0, 0, 0, 0, 0, 0, 0, 0, 0, 0, 0, 0, 0, 0, 0, 0, 0, 0, 0, 0, 0, 0, 0, 0, 0, 0, 0, 0, 0, 0, 0, 0, 0, 0, 0, 0, 0, 0, 0, 0, 0, 0, 0, 0, 0, 0, 0, 0, 0, 0, 0, 0, 0, 0, 0, 0, 0, 0, 0, 0, 0, 0, 0, 0, 0, 0, 0, 0, 0, 0, 0, 0, 0, 0, 0, 0, 0, 0, 0, 0, 0, 0, 0]\n"
     ]
    }
   ],
   "source": [
    "b = 100*[0]\n",
    "print(b)"
   ]
  },
  {
   "cell_type": "code",
   "execution_count": 28,
   "metadata": {},
   "outputs": [
    {
     "name": "stdout",
     "output_type": "stream",
     "text": [
      "a,b =  140015458929280 140015458929568\n",
      "a,b =  140015458929568 140015458929280\n"
     ]
    }
   ],
   "source": [
    "a = 1.0\n",
    "b = 2.1\n",
    "print('a,b = ',id(a), id(b))\n",
    "(a,b) = (b,a)\n",
    "print('a,b = ', id(a),id(b))"
   ]
  },
  {
   "cell_type": "code",
   "execution_count": 29,
   "metadata": {},
   "outputs": [
    {
     "name": "stdout",
     "output_type": "stream",
     "text": [
      "a,b =  140015458929448 140015458929520\n",
      "a,b =  140015458929520 140015458929448\n"
     ]
    }
   ],
   "source": [
    "a = 1.0\n",
    "b = 2.1\n",
    "print('a,b = ',id(a), id(b))\n",
    "tmp = a\n",
    "a = b\n",
    "b = tmp\n",
    "print('a,b = ', id(a),id(b))"
   ]
  },
  {
   "cell_type": "code",
   "execution_count": 41,
   "metadata": {},
   "outputs": [
    {
     "name": "stdout",
     "output_type": "stream",
     "text": [
      "4\n",
      "5\n",
      "6\n",
      "7\n",
      "8\n",
      "10\n",
      "11\n"
     ]
    }
   ],
   "source": [
    "a = [[4,5], [6,7,8], [10,11] ]\n",
    "n = len(a)\n",
    "for j in range(n):\n",
    "    b = a[j]\n",
    "    nb = len(b)\n",
    "    for i in range(nb):\n",
    "        print(b[i])\n"
   ]
  },
  {
   "cell_type": "code",
   "execution_count": 48,
   "metadata": {},
   "outputs": [],
   "source": [
    "def suma(a):\n",
    "    ''' Returns the sum of all elements within a.\n",
    "        This is line 2.'''\n",
    "    ans = 0\n",
    "    n = len(a)\n",
    "    for i in range(n):\n",
    "        ans+=a[i]\n",
    "    return ans"
   ]
  },
  {
   "cell_type": "code",
   "execution_count": 49,
   "metadata": {},
   "outputs": [
    {
     "name": "stdout",
     "output_type": "stream",
     "text": [
      "13\n"
     ]
    }
   ],
   "source": [
    "print( suma([1,4,8])  )"
   ]
  },
  {
   "cell_type": "code",
   "execution_count": 45,
   "metadata": {},
   "outputs": [
    {
     "name": "stdout",
     "output_type": "stream",
     "text": [
      "Help on built-in function print in module builtins:\n",
      "\n",
      "print(...)\n",
      "    print(value, ..., sep=' ', end='\\n', file=sys.stdout, flush=False)\n",
      "    \n",
      "    Prints the values to a stream, or to sys.stdout by default.\n",
      "    Optional keyword arguments:\n",
      "    file:  a file-like object (stream); defaults to the current sys.stdout.\n",
      "    sep:   string inserted between values, default a space.\n",
      "    end:   string appended after the last value, default a newline.\n",
      "    flush: whether to forcibly flush the stream.\n",
      "\n"
     ]
    }
   ],
   "source": [
    "help(print)"
   ]
  },
  {
   "cell_type": "code",
   "execution_count": 57,
   "metadata": {},
   "outputs": [
    {
     "name": "stdout",
     "output_type": "stream",
     "text": [
      "1\n",
      "3\n",
      "5\n",
      "7\n",
      "9\n",
      "11\n",
      "[1, 3, 5, 7, 9, 11]\n"
     ]
    }
   ],
   "source": [
    "def gen_odds(n):\n",
    "    '''Returns a list of all odd numbers [1,n] '''\n",
    "    odds = []\n",
    "    for i in range(1,n+1,2):\n",
    "        print(i)\n",
    "        #if ( i%2 == 1):\n",
    "        #    odds.append(i)\n",
    "        odds.append(i)\n",
    "    return odds\n",
    "print(gen_odds(11))"
   ]
  },
  {
   "cell_type": "code",
   "execution_count": 65,
   "metadata": {},
   "outputs": [
    {
     "name": "stdout",
     "output_type": "stream",
     "text": [
      "5\n",
      "[1, 4]\n"
     ]
    }
   ],
   "source": [
    "def func(a,b):\n",
    "    na = len(a)\n",
    "    nb = len(b)\n",
    "    if (na != nb):\n",
    "        print('a and b must have same length')\n",
    "        return None\n",
    "    dprod = 0\n",
    "    j = 0\n",
    "    while (j < na):\n",
    "        prod = a[j]*b[j]\n",
    "        dprod += prod\n",
    "        b[j] = prod\n",
    "        j+=1\n",
    "    return dprod\n",
    "a = [1,2]\n",
    "b = [1,2]\n",
    "print(func(a, b))\n",
    "print(b)"
   ]
  },
  {
   "cell_type": "code",
   "execution_count": 68,
   "metadata": {},
   "outputs": [
    {
     "name": "stdout",
     "output_type": "stream",
     "text": [
      "['Hello 0', 'There 1']\n"
     ]
    }
   ],
   "source": [
    "def listnum(a):\n",
    "    b = []\n",
    "    for i, v in enumerate(a):\n",
    "        new_string = v+' '+str(i)\n",
    "        b.append(new_string)\n",
    "    return b\n",
    "a = ['Hello', 'There']\n",
    "print(listnum(a))"
   ]
  },
  {
   "cell_type": "code",
   "execution_count": 69,
   "metadata": {},
   "outputs": [
    {
     "name": "stdout",
     "output_type": "stream",
     "text": [
      "1 - 0 = 32\n",
      "2 - 1 = 32\n",
      "3 - 2 = 32\n",
      "4 - 3 = 32\n",
      "5 - 4 = 32\n",
      "6 - 5 = 32\n",
      "7 - 6 = 32\n",
      "8 - 7 = 32\n",
      "9 - 8 = 32\n",
      "10 - 9 = 32\n",
      "11 - 10 = 32\n",
      "12 - 11 = 32\n",
      "13 - 12 = 32\n",
      "14 - 13 = 32\n",
      "15 - 14 = 32\n",
      "16 - 15 = 32\n",
      "17 - 16 = 32\n",
      "18 - 17 = 32\n",
      "19 - 18 = 32\n",
      "20 - 19 = 32\n",
      "21 - 20 = 32\n",
      "22 - 21 = 32\n",
      "23 - 22 = 32\n",
      "24 - 23 = 32\n",
      "25 - 24 = 32\n",
      "26 - 25 = 32\n",
      "27 - 26 = 32\n",
      "28 - 27 = 32\n",
      "29 - 28 = 32\n",
      "30 - 29 = 32\n",
      "31 - 30 = 32\n",
      "32 - 31 = 32\n",
      "33 - 32 = 32\n",
      "34 - 33 = 32\n",
      "35 - 34 = 32\n",
      "36 - 35 = 32\n",
      "37 - 36 = 32\n",
      "38 - 37 = 32\n",
      "39 - 38 = 32\n",
      "40 - 39 = 32\n",
      "41 - 40 = 32\n",
      "42 - 41 = 32\n",
      "43 - 42 = 32\n",
      "44 - 43 = 32\n",
      "45 - 44 = 32\n",
      "46 - 45 = 32\n",
      "47 - 46 = 32\n",
      "48 - 47 = 32\n",
      "49 - 48 = 32\n",
      "50 - 49 = 32\n",
      "51 - 50 = 32\n",
      "52 - 51 = 32\n",
      "53 - 52 = 32\n",
      "54 - 53 = 32\n",
      "55 - 54 = 32\n",
      "56 - 55 = 32\n",
      "57 - 56 = 32\n",
      "58 - 57 = 32\n",
      "59 - 58 = 32\n",
      "60 - 59 = 32\n",
      "61 - 60 = 32\n",
      "62 - 61 = 32\n",
      "63 - 62 = 32\n",
      "64 - 63 = 32\n",
      "65 - 64 = 32\n",
      "66 - 65 = 32\n",
      "67 - 66 = 32\n",
      "68 - 67 = 32\n",
      "69 - 68 = 32\n",
      "70 - 69 = 32\n",
      "71 - 70 = 32\n",
      "72 - 71 = 32\n",
      "73 - 72 = 32\n",
      "74 - 73 = 32\n",
      "75 - 74 = 32\n",
      "76 - 75 = 32\n",
      "77 - 76 = 32\n",
      "78 - 77 = 32\n",
      "79 - 78 = 32\n",
      "80 - 79 = 32\n",
      "81 - 80 = 32\n",
      "82 - 81 = 32\n",
      "83 - 82 = 32\n",
      "84 - 83 = 32\n",
      "85 - 84 = 32\n",
      "86 - 85 = 32\n",
      "87 - 86 = 32\n",
      "88 - 87 = 32\n",
      "89 - 88 = 32\n",
      "90 - 89 = 32\n",
      "91 - 90 = 32\n",
      "92 - 91 = 32\n",
      "93 - 92 = 32\n",
      "94 - 93 = 32\n",
      "95 - 94 = 32\n",
      "96 - 95 = 32\n",
      "97 - 96 = 32\n",
      "98 - 97 = 32\n",
      "99 - 98 = 32\n",
      "100 - 99 = 32\n",
      "101 - 100 = 32\n",
      "102 - 101 = 32\n",
      "103 - 102 = 32\n",
      "104 - 103 = 32\n",
      "105 - 104 = 32\n",
      "106 - 105 = 32\n",
      "107 - 106 = 32\n",
      "108 - 107 = 32\n",
      "109 - 108 = 32\n",
      "110 - 109 = 32\n",
      "111 - 110 = 32\n",
      "112 - 111 = 32\n",
      "113 - 112 = 32\n",
      "114 - 113 = 32\n",
      "115 - 114 = 32\n",
      "116 - 115 = 32\n",
      "117 - 116 = 32\n",
      "118 - 117 = 32\n",
      "119 - 118 = 32\n",
      "120 - 119 = 32\n",
      "121 - 120 = 32\n",
      "122 - 121 = 32\n",
      "123 - 122 = 32\n",
      "124 - 123 = 32\n",
      "125 - 124 = 32\n",
      "126 - 125 = 32\n",
      "127 - 126 = 32\n",
      "128 - 127 = 32\n",
      "129 - 128 = 32\n",
      "130 - 129 = 32\n",
      "131 - 130 = 32\n",
      "132 - 131 = 32\n",
      "133 - 132 = 32\n",
      "134 - 133 = 32\n",
      "135 - 134 = 32\n",
      "136 - 135 = 32\n",
      "137 - 136 = 32\n",
      "138 - 137 = 32\n",
      "139 - 138 = 32\n",
      "140 - 139 = 32\n",
      "141 - 140 = 32\n",
      "142 - 141 = 32\n",
      "143 - 142 = 32\n",
      "144 - 143 = 32\n",
      "145 - 144 = 32\n",
      "146 - 145 = 32\n",
      "147 - 146 = 32\n",
      "148 - 147 = 32\n",
      "149 - 148 = 32\n",
      "150 - 149 = 32\n",
      "151 - 150 = 32\n",
      "152 - 151 = 32\n",
      "153 - 152 = 32\n",
      "154 - 153 = 32\n",
      "155 - 154 = 32\n",
      "156 - 155 = 32\n",
      "157 - 156 = 32\n",
      "158 - 157 = 32\n",
      "159 - 158 = 32\n",
      "160 - 159 = 32\n",
      "161 - 160 = 32\n",
      "162 - 161 = 32\n",
      "163 - 162 = 32\n",
      "164 - 163 = 32\n",
      "165 - 164 = 32\n",
      "166 - 165 = 32\n",
      "167 - 166 = 32\n",
      "168 - 167 = 32\n",
      "169 - 168 = 32\n",
      "170 - 169 = 32\n",
      "171 - 170 = 32\n",
      "172 - 171 = 32\n",
      "173 - 172 = 32\n",
      "174 - 173 = 32\n",
      "175 - 174 = 32\n",
      "176 - 175 = 32\n",
      "177 - 176 = 32\n",
      "178 - 177 = 32\n",
      "179 - 178 = 32\n",
      "180 - 179 = 32\n",
      "181 - 180 = 32\n",
      "182 - 181 = 32\n",
      "183 - 182 = 32\n",
      "184 - 183 = 32\n",
      "185 - 184 = 32\n",
      "186 - 185 = 32\n",
      "187 - 186 = 32\n",
      "188 - 187 = 32\n",
      "189 - 188 = 32\n",
      "190 - 189 = 32\n",
      "191 - 190 = 32\n",
      "192 - 191 = 32\n",
      "193 - 192 = 32\n",
      "194 - 193 = 32\n",
      "195 - 194 = 32\n",
      "196 - 195 = 32\n",
      "197 - 196 = 32\n",
      "198 - 197 = 32\n",
      "199 - 198 = 32\n",
      "200 - 199 = 32\n",
      "201 - 200 = 32\n",
      "202 - 201 = 32\n",
      "203 - 202 = 32\n",
      "204 - 203 = 32\n",
      "205 - 204 = 32\n",
      "206 - 205 = 32\n",
      "207 - 206 = 32\n",
      "208 - 207 = 32\n",
      "209 - 208 = 32\n",
      "210 - 209 = 32\n",
      "211 - 210 = 32\n",
      "212 - 211 = 32\n",
      "213 - 212 = 32\n",
      "214 - 213 = 32\n",
      "215 - 214 = 32\n",
      "216 - 215 = 32\n",
      "217 - 216 = 32\n",
      "218 - 217 = 32\n",
      "219 - 218 = 32\n",
      "220 - 219 = 32\n",
      "221 - 220 = 32\n",
      "222 - 221 = 32\n",
      "223 - 222 = 32\n",
      "224 - 223 = 32\n",
      "225 - 224 = 32\n",
      "226 - 225 = 32\n",
      "227 - 226 = 32\n",
      "228 - 227 = 32\n",
      "229 - 228 = 32\n",
      "230 - 229 = 32\n",
      "231 - 230 = 32\n",
      "232 - 231 = 32\n",
      "233 - 232 = 32\n",
      "234 - 233 = 32\n",
      "235 - 234 = 32\n",
      "236 - 235 = 32\n",
      "237 - 236 = 32\n",
      "238 - 237 = 32\n",
      "239 - 238 = 32\n",
      "240 - 239 = 32\n",
      "241 - 240 = 32\n",
      "242 - 241 = 32\n",
      "243 - 242 = 32\n",
      "244 - 243 = 32\n",
      "245 - 244 = 32\n",
      "246 - 245 = 32\n",
      "247 - 246 = 32\n",
      "248 - 247 = 32\n",
      "249 - 248 = 32\n",
      "250 - 249 = 32\n",
      "251 - 250 = 32\n",
      "252 - 251 = 32\n",
      "253 - 252 = 32\n",
      "254 - 253 = 32\n",
      "255 - 254 = 32\n",
      "256 - 255 = 32\n",
      "257 - 256 = -213166896\n",
      "258 - 257 = 96\n",
      "259 - 258 = 1578944\n"
     ]
    }
   ],
   "source": [
    "n = 260\n",
    "for i in range(1,n):\n",
    "    diff = id(i)-id(i-1)\n",
    "    msg = str(i)+' - '+str(i-1)+' = '+str(diff)\n",
    "    print(msg)"
   ]
  },
  {
   "cell_type": "code",
   "execution_count": null,
   "metadata": {},
   "outputs": [],
   "source": []
  }
 ],
 "metadata": {
  "kernelspec": {
   "display_name": "Python 3",
   "language": "python",
   "name": "python3"
  },
  "language_info": {
   "codemirror_mode": {
    "name": "ipython",
    "version": 3
   },
   "file_extension": ".py",
   "mimetype": "text/x-python",
   "name": "python",
   "nbconvert_exporter": "python",
   "pygments_lexer": "ipython3",
   "version": "3.6.5"
  }
 },
 "nbformat": 4,
 "nbformat_minor": 2
}
